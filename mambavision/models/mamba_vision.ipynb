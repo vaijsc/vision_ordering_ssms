{
 "cells": [
  {
   "cell_type": "code",
   "execution_count": 6,
   "metadata": {},
   "outputs": [],
   "source": [
    "import torch\n",
    "x = torch.randn(2,4,4)"
   ]
  },
  {
   "cell_type": "code",
   "execution_count": 7,
   "metadata": {},
   "outputs": [
    {
     "data": {
      "text/plain": [
       "tensor([[[-0.3284, -0.1663,  0.0493, -1.2515],\n",
       "         [ 0.3776, -1.2365,  0.7591,  0.1154],\n",
       "         [-0.3662,  2.5799,  1.2822,  0.1995],\n",
       "         [ 0.6959, -0.6822,  1.0911, -0.8555]],\n",
       "\n",
       "        [[ 0.1446, -0.4933, -0.6923, -1.7867],\n",
       "         [-0.6020, -0.5330,  3.2200, -0.2541],\n",
       "         [-0.2562,  1.5477,  0.2958,  2.1809],\n",
       "         [ 0.5333, -0.6100, -0.4629, -2.9514]]])"
      ]
     },
     "execution_count": 7,
     "metadata": {},
     "output_type": "execute_result"
    }
   ],
   "source": [
    "x"
   ]
  },
  {
   "cell_type": "code",
   "execution_count": 8,
   "metadata": {},
   "outputs": [],
   "source": [
    "m,n = x.chunk(2, dim=1)"
   ]
  },
  {
   "cell_type": "code",
   "execution_count": 9,
   "metadata": {},
   "outputs": [
    {
     "data": {
      "text/plain": [
       "tensor([[[-0.3284, -0.1663,  0.0493, -1.2515],\n",
       "         [ 0.3776, -1.2365,  0.7591,  0.1154]],\n",
       "\n",
       "        [[ 0.1446, -0.4933, -0.6923, -1.7867],\n",
       "         [-0.6020, -0.5330,  3.2200, -0.2541]]])"
      ]
     },
     "execution_count": 9,
     "metadata": {},
     "output_type": "execute_result"
    }
   ],
   "source": [
    "m"
   ]
  },
  {
   "cell_type": "code",
   "execution_count": 10,
   "metadata": {},
   "outputs": [
    {
     "data": {
      "text/plain": [
       "tensor([[[-0.3662,  2.5799,  1.2822,  0.1995],\n",
       "         [ 0.6959, -0.6822,  1.0911, -0.8555]],\n",
       "\n",
       "        [[-0.2562,  1.5477,  0.2958,  2.1809],\n",
       "         [ 0.5333, -0.6100, -0.4629, -2.9514]]])"
      ]
     },
     "execution_count": 10,
     "metadata": {},
     "output_type": "execute_result"
    }
   ],
   "source": [
    "n"
   ]
  },
  {
   "cell_type": "code",
   "execution_count": 12,
   "metadata": {},
   "outputs": [],
   "source": [
    "import torch\n",
    "x = torch.randn(2,5,4)"
   ]
  },
  {
   "cell_type": "code",
   "execution_count": 13,
   "metadata": {},
   "outputs": [
    {
     "data": {
      "text/plain": [
       "tensor([[[ 1.5404,  0.0396, -0.6640,  0.3259],\n",
       "         [ 0.6276,  0.3109, -0.0363,  0.1820],\n",
       "         [-0.7374, -0.3713, -1.5113, -1.6359],\n",
       "         [-0.7461,  0.0422, -0.3533, -0.2598],\n",
       "         [ 0.5256, -0.7998, -0.0123,  1.2193]],\n",
       "\n",
       "        [[-1.5294,  1.5355,  0.0555, -0.4233],\n",
       "         [ 0.0091, -0.2733,  0.4021, -1.6416],\n",
       "         [ 0.7250, -0.2265,  0.0979,  1.0784],\n",
       "         [ 0.5349, -0.3170,  1.0217,  0.3276],\n",
       "         [ 0.7120, -0.8174,  0.5537, -0.2914]]])"
      ]
     },
     "execution_count": 13,
     "metadata": {},
     "output_type": "execute_result"
    }
   ],
   "source": [
    "x"
   ]
  },
  {
   "cell_type": "code",
   "execution_count": 18,
   "metadata": {},
   "outputs": [
    {
     "data": {
      "text/plain": [
       "tensor([[[ 0.3105],\n",
       "         [ 0.2711],\n",
       "         [-1.0640],\n",
       "         [-0.3292],\n",
       "         [ 0.2332]],\n",
       "\n",
       "        [[-0.0904],\n",
       "         [-0.3759],\n",
       "         [ 0.4187],\n",
       "         [ 0.3918],\n",
       "         [ 0.0392]]])"
      ]
     },
     "execution_count": 18,
     "metadata": {},
     "output_type": "execute_result"
    }
   ],
   "source": [
    "ord_token"
   ]
  },
  {
   "cell_type": "code",
   "execution_count": 17,
   "metadata": {},
   "outputs": [
    {
     "data": {
      "text/plain": [
       "torch.Size([2, 5, 1])"
      ]
     },
     "execution_count": 17,
     "metadata": {},
     "output_type": "execute_result"
    }
   ],
   "source": [
    "ord_token = x.mean(dim=2).unsqueeze(-1)\n",
    "ord_token.shape"
   ]
  },
  {
   "cell_type": "code",
   "execution_count": 19,
   "metadata": {},
   "outputs": [
    {
     "data": {
      "text/plain": [
       "tensor([[[ 1.8011,  0.2912,  1.5054,  2.2609]],\n",
       "\n",
       "        [[ 0.6759, -0.2872,  0.3068,  1.2239]]])"
      ]
     },
     "execution_count": 19,
     "metadata": {},
     "output_type": "execute_result"
    }
   ],
   "source": [
    "torch.matmul(ord_token.transpose(1,2), x).squeeze(2)"
   ]
  },
  {
   "cell_type": "code",
   "execution_count": 21,
   "metadata": {},
   "outputs": [
    {
     "data": {
      "text/plain": [
       "tensor([[[ 1.5404,  0.0396, -0.6640,  0.3259],\n",
       "         [ 0.6276,  0.3109, -0.0363,  0.1820],\n",
       "         [-0.7374, -0.3713, -1.5113, -1.6359],\n",
       "         [-0.7461,  0.0422, -0.3533, -0.2598],\n",
       "         [ 0.5256, -0.7998, -0.0123,  1.2193]],\n",
       "\n",
       "        [[-1.5294,  1.5355,  0.0555, -0.4233],\n",
       "         [ 0.0091, -0.2733,  0.4021, -1.6416],\n",
       "         [ 0.7250, -0.2265,  0.0979,  1.0784],\n",
       "         [ 0.5349, -0.3170,  1.0217,  0.3276],\n",
       "         [ 0.7120, -0.8174,  0.5537, -0.2914]]])"
      ]
     },
     "execution_count": 21,
     "metadata": {},
     "output_type": "execute_result"
    }
   ],
   "source": [
    "x.shape\n",
    "x"
   ]
  },
  {
   "cell_type": "code",
   "execution_count": 26,
   "metadata": {},
   "outputs": [],
   "source": [
    "rearr = torch.tensor([[2, 0, 1, 3],[3, 0, 1, 2]])"
   ]
  },
  {
   "cell_type": "code",
   "execution_count": 33,
   "metadata": {},
   "outputs": [],
   "source": [
    "rearr = rearr.unsqueeze(-1).expand(-1, -1, x.shape[1]).transpose(1,2)"
   ]
  },
  {
   "cell_type": "code",
   "execution_count": 34,
   "metadata": {},
   "outputs": [
    {
     "data": {
      "text/plain": [
       "tensor([[[2, 0, 1, 3],\n",
       "         [2, 0, 1, 3],\n",
       "         [2, 0, 1, 3],\n",
       "         [2, 0, 1, 3],\n",
       "         [2, 0, 1, 3]],\n",
       "\n",
       "        [[3, 0, 1, 2],\n",
       "         [3, 0, 1, 2],\n",
       "         [3, 0, 1, 2],\n",
       "         [3, 0, 1, 2],\n",
       "         [3, 0, 1, 2]]])"
      ]
     },
     "execution_count": 34,
     "metadata": {},
     "output_type": "execute_result"
    }
   ],
   "source": [
    "rearr"
   ]
  },
  {
   "cell_type": "code",
   "execution_count": 36,
   "metadata": {},
   "outputs": [
    {
     "data": {
      "text/plain": [
       "tensor([[[ 1.5404,  0.0396, -0.6640,  0.3259],\n",
       "         [ 0.6276,  0.3109, -0.0363,  0.1820],\n",
       "         [-0.7374, -0.3713, -1.5113, -1.6359],\n",
       "         [-0.7461,  0.0422, -0.3533, -0.2598],\n",
       "         [ 0.5256, -0.7998, -0.0123,  1.2193]],\n",
       "\n",
       "        [[-1.5294,  1.5355,  0.0555, -0.4233],\n",
       "         [ 0.0091, -0.2733,  0.4021, -1.6416],\n",
       "         [ 0.7250, -0.2265,  0.0979,  1.0784],\n",
       "         [ 0.5349, -0.3170,  1.0217,  0.3276],\n",
       "         [ 0.7120, -0.8174,  0.5537, -0.2914]]])"
      ]
     },
     "execution_count": 36,
     "metadata": {},
     "output_type": "execute_result"
    }
   ],
   "source": [
    "x"
   ]
  },
  {
   "cell_type": "code",
   "execution_count": 37,
   "metadata": {},
   "outputs": [
    {
     "name": "stdout",
     "output_type": "stream",
     "text": [
      "tensor([[[-0.6640,  1.5404,  0.0396,  0.3259],\n",
      "         [-0.0363,  0.6276,  0.3109,  0.1820],\n",
      "         [-1.5113, -0.7374, -0.3713, -1.6359],\n",
      "         [-0.3533, -0.7461,  0.0422, -0.2598],\n",
      "         [-0.0123,  0.5256, -0.7998,  1.2193]],\n",
      "\n",
      "        [[-0.4233, -1.5294,  1.5355,  0.0555],\n",
      "         [-1.6416,  0.0091, -0.2733,  0.4021],\n",
      "         [ 1.0784,  0.7250, -0.2265,  0.0979],\n",
      "         [ 0.3276,  0.5349, -0.3170,  1.0217],\n",
      "         [-0.2914,  0.7120, -0.8174,  0.5537]]])\n"
     ]
    }
   ],
   "source": [
    "# Use torch.gather to reorder x based on rearr\n",
    "output = torch.gather(x, dim=2, index=rearr)\n",
    "\n",
    "print(output)"
   ]
  },
  {
   "cell_type": "code",
   "execution_count": 38,
   "metadata": {},
   "outputs": [
    {
     "name": "stdout",
     "output_type": "stream",
     "text": [
      "tensor([[[0., 1., 0., 0.],\n",
      "         [1., 0., 0., 0.],\n",
      "         [0., 0., 1., 0.],\n",
      "         [0., 0., 0., 1.]],\n",
      "\n",
      "        [[0., 0., 1., 0.],\n",
      "         [0., 1., 0., 0.],\n",
      "         [1., 0., 0., 0.],\n",
      "         [0., 0., 0., 1.]]])\n"
     ]
    }
   ],
   "source": [
    "import torch\n",
    "\n",
    "# Initialize an empty tensor to store the permutation matrices\n",
    "perm_matrix = torch.zeros(2, 4, 4)\n",
    "\n",
    "# Define arbitrary permutations for each matrix\n",
    "perm1 = torch.tensor([[0, 1, 0, 0], \n",
    "                      [1, 0, 0, 0], \n",
    "                      [0, 0, 1, 0], \n",
    "                      [0, 0, 0, 1]])\n",
    "\n",
    "perm2 = torch.tensor([[0, 0, 1, 0], \n",
    "                      [0, 1, 0, 0], \n",
    "                      [1, 0, 0, 0], \n",
    "                      [0, 0, 0, 1]])\n",
    "\n",
    "# Store the permutation matrices\n",
    "perm_matrix[0] = perm1\n",
    "perm_matrix[1] = perm2\n",
    "\n",
    "print(perm_matrix)\n"
   ]
  },
  {
   "cell_type": "code",
   "execution_count": 39,
   "metadata": {},
   "outputs": [
    {
     "name": "stdout",
     "output_type": "stream",
     "text": [
      "torch.Size([2, 5, 4])\n",
      "torch.Size([2, 4, 4])\n"
     ]
    }
   ],
   "source": [
    "print(x.shape) # [2, 5, 4]\n",
    "print(perm_matrix.shape) # [2, 4, 4]"
   ]
  },
  {
   "cell_type": "code",
   "execution_count": 41,
   "metadata": {},
   "outputs": [
    {
     "name": "stdout",
     "output_type": "stream",
     "text": [
      "tensor([[[ 1.5404, -0.6640,  0.0396,  0.3259],\n",
      "         [ 0.6276, -0.0363,  0.3109,  0.1820],\n",
      "         [-0.7374, -1.5113, -0.3713, -1.6359],\n",
      "         [-0.7461, -0.3533,  0.0422, -0.2598],\n",
      "         [ 0.5256, -0.0123, -0.7998,  1.2193]],\n",
      "\n",
      "        [[ 1.5355, -1.5294, -0.4233,  0.0555],\n",
      "         [-0.2733,  0.0091, -1.6416,  0.4021],\n",
      "         [-0.2265,  0.7250,  1.0784,  0.0979],\n",
      "         [-0.3170,  0.5349,  0.3276,  1.0217],\n",
      "         [-0.8174,  0.7120, -0.2914,  0.5537]]])\n"
     ]
    }
   ],
   "source": [
    "import torch\n",
    "\n",
    "# Define x tensor\n",
    "x = torch.tensor([[[-0.6640,  1.5404,  0.0396,  0.3259],\n",
    "                   [-0.0363,  0.6276,  0.3109,  0.1820],\n",
    "                   [-1.5113, -0.7374, -0.3713, -1.6359],\n",
    "                   [-0.3533, -0.7461,  0.0422, -0.2598],\n",
    "                   [-0.0123,  0.5256, -0.7998,  1.2193]],\n",
    "\n",
    "                  [[-0.4233, -1.5294,  1.5355,  0.0555],\n",
    "                   [-1.6416,  0.0091, -0.2733,  0.4021],\n",
    "                   [ 1.0784,  0.7250, -0.2265,  0.0979],\n",
    "                   [ 0.3276,  0.5349, -0.3170,  1.0217],\n",
    "                   [-0.2914,  0.7120, -0.8174,  0.5537]]])\n",
    "\n",
    "# Define the permutation matrix\n",
    "perm_matrix = torch.tensor([[[0, 1, 0, 0], \n",
    "                             [1, 0, 0, 0], \n",
    "                             [0, 0, 1, 0], \n",
    "                             [0, 0, 0, 1]],\n",
    "\n",
    "                            [[0, 0, 1, 0], \n",
    "                             [0, 1, 0, 0], \n",
    "                             [1, 0, 0, 0], \n",
    "                             [0, 0, 0, 1]]]).float()\n",
    "\n",
    "# Perform einsum to reorder x based on perm_matrix\n",
    "# Apply the permutation matrix to the last dimension (dim 4) of x\n",
    "reordered_x = torch.einsum('bij,bjk->bik', x, perm_matrix)\n",
    "\n",
    "print(reordered_x)\n"
   ]
  }
 ],
 "metadata": {
  "kernelspec": {
   "display_name": "Python 3",
   "language": "python",
   "name": "python3"
  },
  "language_info": {
   "codemirror_mode": {
    "name": "ipython",
    "version": 3
   },
   "file_extension": ".py",
   "mimetype": "text/x-python",
   "name": "python",
   "nbconvert_exporter": "python",
   "pygments_lexer": "ipython3",
   "version": "3.10.14"
  }
 },
 "nbformat": 4,
 "nbformat_minor": 2
}
