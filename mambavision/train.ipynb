{
 "cells": [
  {
   "cell_type": "code",
   "execution_count": 2,
   "metadata": {},
   "outputs": [],
   "source": [
    "import torch\n",
    "from torch import Tensor\n",
    "class SoftSort(torch.nn.Module):\n",
    "    def __init__(self, tau=1.0, hard=False, pow=1.0):\n",
    "        super(SoftSort, self).__init__()\n",
    "        self.hard = hard\n",
    "        self.tau = tau\n",
    "        self.pow = pow\n",
    "\n",
    "    def forward(self, scores: Tensor):\n",
    "        \"\"\"\n",
    "        scores: elements to be sorted. Typical shape: batch_size x n\n",
    "        \"\"\"\n",
    "        scores = scores.unsqueeze(-1)\n",
    "        sorted = scores.sort(descending=True, dim=1)[0]\n",
    "        pairwise_diff = (scores.transpose(1, 2) - sorted).abs().pow(self.pow).neg() / self.tau\n",
    "        P_hat = pairwise_diff.softmax(-1)\n",
    "\n",
    "        if self.hard:\n",
    "            P = torch.zeros_like(P_hat, device=P_hat.device)\n",
    "            P.scatter_(-1, P_hat.topk(1, -1)[1], value=1)\n",
    "            P_hat = (P - P_hat).detach() + P_hat\n",
    "        return P_hat"
   ]
  },
  {
   "cell_type": "code",
   "execution_count": 8,
   "metadata": {},
   "outputs": [],
   "source": [
    "import numpy\n",
    "ss = SoftSort(hard=True)"
   ]
  },
  {
   "cell_type": "code",
   "execution_count": 16,
   "metadata": {},
   "outputs": [
    {
     "data": {
      "text/plain": [
       "tensor([[[1., 0., 0.],\n",
       "         [0., 1., 0.],\n",
       "         [0., 0., 1.]]], dtype=torch.float64)"
      ]
     },
     "execution_count": 16,
     "metadata": {},
     "output_type": "execute_result"
    }
   ],
   "source": [
    "value = torch.tensor([[1.0,2.0,5.0]], dtype=torch.float64)\n",
    "mat = ss(-value)\n",
    "mat"
   ]
  },
  {
   "cell_type": "code",
   "execution_count": 18,
   "metadata": {},
   "outputs": [
    {
     "data": {
      "text/plain": [
       "tensor([[1., 2., 5.]], dtype=torch.float64)"
      ]
     },
     "execution_count": 18,
     "metadata": {},
     "output_type": "execute_result"
    }
   ],
   "source": [
    "torch.einsum('blk, bl -> bk', mat, value)"
   ]
  }
 ],
 "metadata": {
  "kernelspec": {
   "display_name": "Python 3",
   "language": "python",
   "name": "python3"
  },
  "language_info": {
   "codemirror_mode": {
    "name": "ipython",
    "version": 3
   },
   "file_extension": ".py",
   "mimetype": "text/x-python",
   "name": "python",
   "nbconvert_exporter": "python",
   "pygments_lexer": "ipython3",
   "version": "3.10.14"
  }
 },
 "nbformat": 4,
 "nbformat_minor": 2
}
